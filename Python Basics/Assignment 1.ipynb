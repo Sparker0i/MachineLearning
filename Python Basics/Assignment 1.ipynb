{
 "cells": [
  {
   "cell_type": "code",
   "execution_count": 1,
   "metadata": {},
   "outputs": [
    {
     "data": {
      "text/plain": [
       "str"
      ]
     },
     "execution_count": 1,
     "metadata": {},
     "output_type": "execute_result"
    }
   ],
   "source": [
    "type('Hello World')"
   ]
  },
  {
   "cell_type": "code",
   "execution_count": 2,
   "metadata": {},
   "outputs": [
    {
     "name": "stdout",
     "output_type": "stream",
     "text": [
      "8\n",
      "8.5\n",
      "4.0\n",
      "11\n",
      ".....\n"
     ]
    }
   ],
   "source": [
    "width = 17\n",
    "height = 12.0\n",
    "delimiter = '.'\n",
    "\n",
    "print width/2\n",
    "print width/2.0\n",
    "print height/3\n",
    "print 1+2*5\n",
    "print delimiter * 5"
   ]
  },
  {
   "cell_type": "code",
   "execution_count": 10,
   "metadata": {},
   "outputs": [
    {
     "name": "stdout",
     "output_type": "stream",
     "text": [
      "523.333333333\n"
     ]
    }
   ],
   "source": [
    "r = 5\n",
    "u = r * r * r\n",
    "d = 4.0/3.0\n",
    "pi = 3.14\n",
    "print u * d * pi"
   ]
  },
  {
   "cell_type": "code",
   "execution_count": 12,
   "metadata": {},
   "outputs": [
    {
     "name": "stdout",
     "output_type": "stream",
     "text": [
      "617.7\n"
     ]
    }
   ],
   "source": [
    "cover = 24.95\n",
    "bdisc = 0.4\n",
    "copies = 60\n",
    "print bdisc * ((cover + 3) + (cover + 0.75) * (copies - 1))"
   ]
  },
  {
   "cell_type": "code",
   "execution_count": 27,
   "metadata": {},
   "outputs": [
    {
     "name": "stdout",
     "output_type": "stream",
     "text": [
      "7:30:06\n"
     ]
    }
   ],
   "source": [
    "'''\n",
    "start_time = datetime.datetime(2018 , 1 , 18 , 6 , 52 , 0)\n",
    "easy = datetime.timedelta(0 , 8 , 15)\n",
    "medium = datetime.timedelta(0 , 7 , 12)\n",
    "ease = 1\n",
    "med = 3\n",
    "for i in range(0,ease):\n",
    "    easy += easy\n",
    "for i in range(0,med):\n",
    "    medium += medium\n",
    "for i in range(0,ease):\n",
    "    easy += easy\n",
    "print start_time + easy + medium\n",
    "'''\n",
    "easy_sec = 0 * 3600 + 8 * 60 + 15\n",
    "medium_sec = 0 * 3600 + 7 * 60 + 12\n",
    "current_time = 6 * 3600 + 52 * 60 + 0\n",
    "current_time += easy_sec\n",
    "for i in range(0,3):\n",
    "    current_time += medium_sec\n",
    "current_time += easy_sec\n",
    "print str(datetime.timedelta(seconds=current_time))"
   ]
  },
  {
   "cell_type": "code",
   "execution_count": 28,
   "metadata": {},
   "outputs": [
    {
     "ename": "NameError",
     "evalue": "name 'repeat_lyrics' is not defined",
     "output_type": "error",
     "traceback": [
      "\u001b[0;31m---------------------------------------------------------------------------\u001b[0m",
      "\u001b[0;31mNameError\u001b[0m                                 Traceback (most recent call last)",
      "\u001b[0;32m<ipython-input-28-66ba797adb48>\u001b[0m in \u001b[0;36m<module>\u001b[0;34m()\u001b[0m\n\u001b[0;32m----> 1\u001b[0;31m \u001b[0mrepeat_lyrics\u001b[0m\u001b[0;34m(\u001b[0m\u001b[0;34m)\u001b[0m\u001b[0;34m\u001b[0m\u001b[0m\n\u001b[0m\u001b[1;32m      2\u001b[0m \u001b[0;34m\u001b[0m\u001b[0m\n\u001b[1;32m      3\u001b[0m \u001b[0;32mdef\u001b[0m \u001b[0mprint_lyrics\u001b[0m\u001b[0;34m(\u001b[0m\u001b[0;34m)\u001b[0m\u001b[0;34m:\u001b[0m\u001b[0;34m\u001b[0m\u001b[0m\n\u001b[1;32m      4\u001b[0m     \u001b[0;32mprint\u001b[0m \u001b[0;34m\"I'm a lumberjack, and I'm okay.\"\u001b[0m\u001b[0;34m\u001b[0m\u001b[0m\n\u001b[1;32m      5\u001b[0m     \u001b[0;32mprint\u001b[0m \u001b[0;34m\"I sleep all night and I work all day.\"\u001b[0m\u001b[0;34m\u001b[0m\u001b[0m\n",
      "\u001b[0;31mNameError\u001b[0m: name 'repeat_lyrics' is not defined"
     ]
    }
   ],
   "source": [
    "repeat_lyrics()\n",
    "\n",
    "def print_lyrics():\n",
    "    print \"I'm a lumberjack, and I'm okay.\"\n",
    "    print \"I sleep all night and I work all day.\"\n",
    "    \n",
    "def repeat_lyrics():\n",
    "    print_lyrics()\n",
    "    print_lyrics()"
   ]
  },
  {
   "cell_type": "code",
   "execution_count": 29,
   "metadata": {},
   "outputs": [
    {
     "name": "stdout",
     "output_type": "stream",
     "text": [
      "I'm a lumberjack, and I'm okay.\n",
      "I sleep all night and I work all day.\n",
      "I'm a lumberjack, and I'm okay.\n",
      "I sleep all night and I work all day.\n"
     ]
    }
   ],
   "source": [
    "def repeat_lyrics():\n",
    "    print_lyrics()\n",
    "    print_lyrics()\n",
    "    \n",
    "def print_lyrics():\n",
    "    print \"I'm a lumberjack, and I'm okay.\"\n",
    "    print \"I sleep all night and I work all day.\"\n",
    "    \n",
    "repeat_lyrics()"
   ]
  },
  {
   "cell_type": "code",
   "execution_count": 36,
   "metadata": {},
   "outputs": [
    {
     "name": "stdout",
     "output_type": "stream",
     "text": [
      "                                                                 allen\n"
     ]
    }
   ],
   "source": [
    "def right_justify(string):\n",
    "    str = '';\n",
    "    length = len(string)\n",
    "    for i in range(0,70-length):\n",
    "        str += ' '\n",
    "    str += string\n",
    "    print str\n",
    "    \n",
    "right_justify('allen')"
   ]
  },
  {
   "cell_type": "code",
   "execution_count": 39,
   "metadata": {},
   "outputs": [
    {
     "name": "stdout",
     "output_type": "stream",
     "text": [
      "spam\n",
      "spam\n"
     ]
    }
   ],
   "source": [
    "def print_twice(v):\n",
    "    print v\n",
    "    \n",
    "def do_twice(f , v):\n",
    "    f(v)\n",
    "    f(v)\n",
    "    \n",
    "do_twice(print_twice , 'spam')"
   ]
  },
  {
   "cell_type": "code",
   "execution_count": 40,
   "metadata": {},
   "outputs": [
    {
     "name": "stdout",
     "output_type": "stream",
     "text": [
      "spam\n",
      "spam\n",
      "spam\n",
      "spam\n"
     ]
    }
   ],
   "source": [
    "def print_twice(v):\n",
    "    print v\n",
    "    \n",
    "def do_twice(f , v):\n",
    "    f(v)\n",
    "    f(v)\n",
    "    \n",
    "def do_four(f , v):\n",
    "    for i in range(0,4):\n",
    "        f(v)\n",
    "    \n",
    "do_four(print_twice , 'spam')"
   ]
  },
  {
   "cell_type": "code",
   "execution_count": 41,
   "metadata": {},
   "outputs": [
    {
     "name": "stdout",
     "output_type": "stream",
     "text": [
      "+ - - - - + - - - - +\n",
      "|         |         |\n",
      "|         |         |\n",
      "|         |         |\n",
      "|         |         |\n",
      "+ - - - - + - - - - +\n",
      "|         |         |\n",
      "|         |         |\n",
      "|         |         |\n",
      "|         |         |\n",
      "+ - - - - + - - - - +\n"
     ]
    }
   ],
   "source": [
    "def do_twice(f):\n",
    "    f()\n",
    "    f()\n",
    "\n",
    "def do_four(f):\n",
    "    do_twice(f)\n",
    "    do_twice(f)\n",
    "\n",
    "def print_beam():\n",
    "    print '+ - - - -',\n",
    "\n",
    "def print_post():\n",
    "    print '|        ',\n",
    "\n",
    "def print_beams():\n",
    "    do_twice(print_beam)\n",
    "    print '+'\n",
    "\n",
    "def print_posts():\n",
    "    do_twice(print_post)\n",
    "    print '|'\n",
    "\n",
    "def print_row():\n",
    "    print_beams()\n",
    "    do_four(print_posts)\n",
    "\n",
    "def print_grid():\n",
    "    do_twice(print_row)\n",
    "    print_beams()\n",
    "\n",
    "print_grid()"
   ]
  },
  {
   "cell_type": "code",
   "execution_count": 43,
   "metadata": {},
   "outputs": [
    {
     "name": "stdout",
     "output_type": "stream",
     "text": [
      "+ - - - - + - - - - + - - - - + - - - - +\n",
      "|         |         |         |         |\n",
      "|         |         |         |         |\n",
      "|         |         |         |         |\n",
      "|         |         |         |         |\n",
      "+ - - - - + - - - - + - - - - + - - - - +\n",
      "|         |         |         |         |\n",
      "|         |         |         |         |\n",
      "|         |         |         |         |\n",
      "|         |         |         |         |\n",
      "+ - - - - + - - - - + - - - - + - - - - +\n",
      "|         |         |         |         |\n",
      "|         |         |         |         |\n",
      "|         |         |         |         |\n",
      "|         |         |         |         |\n",
      "+ - - - - + - - - - + - - - - + - - - - +\n",
      "|         |         |         |         |\n",
      "|         |         |         |         |\n",
      "|         |         |         |         |\n",
      "|         |         |         |         |\n",
      "+ - - - - + - - - - + - - - - + - - - - +\n"
     ]
    }
   ],
   "source": [
    "def one_four_one(f, g, h):\n",
    "    f()\n",
    "    do_four(g)\n",
    "    h()\n",
    "\n",
    "def print_plus():\n",
    "    print '+',\n",
    "\n",
    "def print_dash():\n",
    "    print '-',\n",
    "\n",
    "def print_ver():\n",
    "    print '|',\n",
    "\n",
    "def print_space():\n",
    "    print ' ',\n",
    "\n",
    "def print_end():\n",
    "    print\n",
    "\n",
    "def nothing():\n",
    "    \"do nothing\"\n",
    "\n",
    "def print1beam():\n",
    "    one_four_one(nothing, print_dash, print_plus)\n",
    "\n",
    "def print1post():\n",
    "    one_four_one(nothing, print_space, print_ver)\n",
    "\n",
    "def print4beams():\n",
    "    one_four_one(print_plus, print1beam, print_end)\n",
    "\n",
    "def print4posts():\n",
    "    one_four_one(print_ver, print1post, print_end)\n",
    "\n",
    "def print_row():\n",
    "    one_four_one(nothing, print4posts, print4beams)\n",
    "\n",
    "def print_grid():\n",
    "    one_four_one(print4beams, print_row, nothing)\n",
    "\n",
    "print_grid()"
   ]
  },
  {
   "cell_type": "code",
   "execution_count": 46,
   "metadata": {},
   "outputs": [
    {
     "name": "stdout",
     "output_type": "stream",
     "text": [
      "a\n",
      "a\n",
      "a\n",
      "a\n"
     ]
    }
   ],
   "source": [
    "def print_n(s, n):\n",
    "    for i in range(0,n):\n",
    "        print s\n",
    "\n",
    "print_n('a' , 4)"
   ]
  },
  {
   "cell_type": "code",
   "execution_count": 55,
   "metadata": {},
   "outputs": [
    {
     "name": "stdout",
     "output_type": "stream",
     "text": [
      "10\n",
      "5.49504950495\n",
      "3.64842565338\n",
      "3.18109810265\n",
      "3.14677111357\n",
      "3.14658388321\n"
     ]
    }
   ],
   "source": [
    "def square_root(x):\n",
    "    a = x/1.01\n",
    "    while True:\n",
    "        print x\n",
    "        y = (x + a/x) / 2\n",
    "        epsilon = 0.0000001\n",
    "        if  abs(y - x) < epsilon:\n",
    "            break\n",
    "        x = y\n",
    "        \n",
    "square_root(10)"
   ]
  },
  {
   "cell_type": "code",
   "execution_count": 62,
   "metadata": {},
   "outputs": [
    {
     "name": "stdout",
     "output_type": "stream",
     "text": [
      "1 \t0.99503719021 \t1.0 \t0.00496280979001\n",
      "2 \t1.40719508946 \t1.41421356237 \t0.00701847291251\n",
      "3 \t1.72345496886 \t1.73205080757 \t0.0085958387046\n",
      "4 \t1.99007438042 \t2.0 \t0.00992561958002\n",
      "5 \t2.22497079745 \t2.2360679775 \t0.0110971800499\n",
      "6 \t2.43733339111 \t2.44948974278 \t0.012156351676\n",
      "7 \t2.63262095056 \t2.64575131106 \t0.0131303605085\n",
      "8 \t2.81439017892 \t2.82842712475 \t0.014036945825\n",
      "9 \t2.98511157063 \t3.0 \t0.01488842937\n"
     ]
    }
   ],
   "source": [
    "import math\n",
    "def square_root(x):\n",
    "    a = x/1.01\n",
    "    y = 0\n",
    "    while True:\n",
    "        y = (x + a/x) / 2\n",
    "        epsilon = 0.0000001\n",
    "        if  abs(y - x) < epsilon:\n",
    "            break\n",
    "        x = y\n",
    "    return y\n",
    "        \n",
    "def root(n):\n",
    "    for i in range(1,n):\n",
    "        print str(i) , \"\\t\" ,\n",
    "\tprint str(square_root(i)) , \"\\t\" ,\n",
    "\tprint str(math.sqrt(i)) , \"\\t\" ,\n",
    "\tprint str(abs(math.sqrt(i) - square_root(i)))\n",
    "        \n",
    "root(10)"
   ]
  },
  {
   "cell_type": "code",
   "execution_count": null,
   "metadata": {},
   "outputs": [],
   "source": []
  }
 ],
 "metadata": {
  "kernelspec": {
   "display_name": "Python 2",
   "language": "python",
   "name": "python2"
  },
  "language_info": {
   "codemirror_mode": {
    "name": "ipython",
    "version": 2
   },
   "file_extension": ".py",
   "mimetype": "text/x-python",
   "name": "python",
   "nbconvert_exporter": "python",
   "pygments_lexer": "ipython2",
   "version": "2.7.12"
  }
 },
 "nbformat": 4,
 "nbformat_minor": 2
}
