{
 "cells": [
  {
   "cell_type": "code",
   "execution_count": 4,
   "metadata": {},
   "outputs": [
    {
     "name": "stdout",
     "output_type": "stream",
     "text": [
      "Coefficients: \n",
      " [938.23786125]\n"
     ]
    },
    {
     "data": {
      "image/png": "[encoded data removed]",
      "text/plain": [
       "<Figure size 432x288 with 1 Axes>"
      ]
     },
     "metadata": {},
     "output_type": "display_data"
    }
   ],
   "source": [
    "import matplotlib.pyplot as plt\n",
    "import numpy as np\n",
    "from sklearn import datasets, linear_model\n",
    "from sklearn.linear_model import LogisticRegression\n",
    "from sklearn.metrics import mean_squared_error , r2_score\n",
    "\n",
    "diabetes = datasets.load_breast_cancer()\n",
    "\n",
    "diabetes_X = diabetes.data[:, np.newaxis, 2]\n",
    "\n",
    "diabetes_X_train = diabetes_X[: -20]\n",
    "diabetes_X_test = diabetes_X[-20: ]\n",
    "\n",
    "diabetes_Y_train = diabetes.target[: -20]\n",
    "diabetes_Y_test = diabetes.target[-20: ]\n",
    "\n",
    "regr=LogisticRegression()\n",
    "classification_model(model,data,prediction_var,\"diagnosis\")\n",
    "regr.fit(diabetes_X_train , diabetes_Y_train)\n",
    "\n",
    "diabetes_y_pred = regr.predict(diabetes_X_test)\n",
    "print('Coefficients: \\n' , regr.coef_)\n",
    "\n",
    "plt.scatter(diabetes_X_test , diabetes_Y_test , color=\"black\")\n",
    "plt.plot(diabetes_X_test , diabetes_y_pred , color=\"blue\" , linewidth=3)\n",
    "\n",
    "plt.xticks()\n",
    "plt.yticks()\n",
    "\n",
    "plt.show()"
   ]
  },
  {
   "cell_type": "code",
   "execution_count": 8,
   "metadata": {},
   "outputs": [
    {
     "name": "stdout",
     "output_type": "stream",
     "text": [
      "After 1000 iterations b = 0.08893651993741346, m = 1.4777440851894448, error = 112.61481011613473\n",
      "minimized Cost:  112.61481011613473\n"
     ]
    },
    {
     "data": {
      "image/png": "[encoded data removed]",
      "text/plain": [
       "<Figure size 432x288 with 1 Axes>"
      ]
     },
     "metadata": {},
     "output_type": "display_data"
    }
   ],
   "source": [
    "import numpy as np\n",
    "import matplotlib.pyplot as plt\n",
    "\n",
    "def compute_error_for_line_given_points(b, m, points):\n",
    "    totalError = 0\n",
    "    for i in range(0, len(points)):\n",
    "        x = points[i, 0]\n",
    "        y = points[i, 1]\n",
    "\n",
    "        totalError += (y - (m * x + b)) ** 2\n",
    "\n",
    "    return totalError / float(len(points))\n",
    "\n",
    "\n",
    "\n",
    "def step_gradient(b_current, m_current, points, learning_rate):\n",
    " \n",
    "    b_gradient = 0\n",
    "    m_gradient = 0\n",
    "    N = float(len(points))\n",
    "\n",
    "    for i in range(0, len(points)):\n",
    "        x = points[i, 0]\n",
    "        y = points[i, 1]\n",
    "\n",
    "        b_gradient += -(2/N) * (y - ((m_current * x) + b_current))\n",
    "        m_gradient += -(2/N) * x * (y - ((m_current * x) + b_current))\n",
    "\n",
    "    new_b = b_current - (learning_rate * b_gradient)\n",
    "    new_m = m_current - (learning_rate * m_gradient)\n",
    "\n",
    "    return [new_b, new_m]\n",
    "\n",
    "def gradient_descent_runner(points, starting_b, starting_m, learning_rate, num_iterations):\n",
    " \n",
    "    b = starting_b\n",
    "    m = starting_m\n",
    "\n",
    "    for i in range(num_iterations):\n",
    "        b, m = step_gradient(b,m, points, learning_rate)\n",
    "\n",
    "    return (b, m)\n",
    "\n",
    "def run():\n",
    "    points = np.genfromtxt('data.csv',delimiter=',')\n",
    "    learning_rate = 0.0001\n",
    "\n",
    "    #y = mx + b (slope formula)\n",
    "\n",
    "    initial_b = 0\n",
    "    initial_m = 0 # ideal slope, will start with 0\n",
    "\n",
    "    num_iterations = 1000\n",
    "    \n",
    "    [b, m] = gradient_descent_runner(points, initial_b, initial_m, learning_rate, num_iterations)\n",
    "    \n",
    "    print(\"After {0} iterations b = {1}, m = {2}, error = {3}\".format(num_iterations, b, m, compute_error_for_line_given_points(b, m, points)))\n",
    "    print(\"minimized Cost: \" , compute_error_for_line_given_points(b , m , points))\n",
    "    \n",
    "    x = points[:,0]\n",
    "    y = points[:,1]\n",
    "    plt.scatter(x , y)\n",
    "    pred = m * x + b\n",
    "    plt.plot(x , pred, c='r')\n",
    "    plt.xlabel('Hours Of Study')\n",
    "    plt.ylabel('Test Scores')\n",
    "    plt.title('Line of Best Fit')\n",
    "    plt.show()\n",
    "\n",
    "run()"
   ]
  },
  {
   "cell_type": "code",
   "execution_count": null,
   "metadata": {},
   "outputs": [],
   "source": []
  }
 ],
 "metadata": {
  "kernelspec": {
   "display_name": "Python 3",
   "language": "python",
   "name": "python3"
  },
  "language_info": {
   "codemirror_mode": {
    "name": "ipython",
    "version": 3
   },
   "file_extension": ".py",
   "mimetype": "text/x-python",
   "name": "python",
   "nbconvert_exporter": "python",
   "pygments_lexer": "ipython3",
   "version": "3.5.2"
  }
 },
 "nbformat": 4,
 "nbformat_minor": 2
}
